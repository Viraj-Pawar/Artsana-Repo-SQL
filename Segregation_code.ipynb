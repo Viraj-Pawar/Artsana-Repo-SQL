{
 "cells": [
  {
   "cell_type": "code",
   "execution_count": 23,
   "metadata": {},
   "outputs": [],
   "source": [
    "import pandas as pd\n",
    "import pyodbc"
   ]
  },
  {
   "cell_type": "code",
   "execution_count": 24,
   "metadata": {},
   "outputs": [
    {
     "name": "stderr",
     "output_type": "stream",
     "text": [
      "C:\\Users\\Viraj.Pawar\\AppData\\Local\\Temp\\ipykernel_7612\\1003254094.py:8: UserWarning: pandas only supports SQLAlchemy connectable (engine/connection) or database string URI or sqlite3 DBAPI2 connection. Other DBAPI2 objects are not tested. Please consider using SQLAlchemy.\n",
      "  Data_detail = pd.read_sql(\"SELECT  * FROM FAR.Data_detail\", conn)\n"
     ]
    }
   ],
   "source": [
    "# Connect to SQL Server\n",
    "conn = pyodbc.connect('Driver={SQL Server};'\n",
    "                      'Server=db.3scsolution.lan;'\n",
    "                      'Database=Artsana;'\n",
    "                      'Trusted_Connection=yes;')\n",
    "\n",
    "# Read the table into a pandas DataFrame\n",
    "Data_detail = pd.read_sql(\"SELECT  * FROM FAR.Data_detail\", conn)"
   ]
  },
  {
   "cell_type": "code",
   "execution_count": 25,
   "metadata": {},
   "outputs": [],
   "source": [
    "# Sort the DataFrame by the 'Salary' column in ascending order\n",
    "Data_detail = Data_detail.sort_values('Sequence')"
   ]
  },
  {
   "cell_type": "code",
   "execution_count": 26,
   "metadata": {},
   "outputs": [],
   "source": [
    "# Adding IsActive column to table\n",
    "Data_detail['IsActive'] = Data_detail['Sequence'].apply(lambda x: '1' if x >=1 else '0')"
   ]
  },
  {
   "cell_type": "code",
   "execution_count": 27,
   "metadata": {},
   "outputs": [],
   "source": [
    "# Rearrange the columns and create an alias for the 'Salary' column\n",
    "Data_detail = Data_detail.reindex(columns=['key', 'Forecast Number', 'FC Month', 'FC Year', 'Region', 'Channel', 'Material_Code', 'Material Description', 'Category', 'ASM_Class', 'ASP', 'RSM', \n",
    "                                           'RSM ID', 'Material Status', 'YTD_AVG_SALES_Q', 'Avg_12M_Sales_Q', 'Avg_6M_Sales_Q', 'Avg_3M_Sales_Q', 'LM_SALES_Q', 'LYSM1_Q', 'LYSM2_Q', 'LYSM3_Q', \n",
    "                                           'M1_QTY_3SC', 'M2_QTY_3SC', 'M3_QTY_3SC', 'M4_QTY_3SC', 'M5_QTY_3SC', 'M6_QTY_3SC', 'M7_QTY_3SC', 'M8_QTY_3SC', 'M9_QTY_3SC', 'M10_QTY_3SC', 'M11_QTY_3SC',\n",
    "                                           'M12_QTY_3SC', 'M1_Qty', 'M2_Qty', 'M3_Qty', 'M4_Qty', 'M5_Qty', 'M6_Qty', 'M7_Qty', 'M8_Qty', 'M9_Qty', 'M10_Qty', 'M11_Qty', 'M12_Qty', 'L12_Min_Q',\n",
    "                                           'L12_Max_Q', 'M-1', 'M-2', 'M-3', 'LYSM4_Q', 'LYSM5_Q', 'LYSM6_Q', 'Status', 'Domestic/Import', 'ABC (Qty)', 'AVG_6M_Forecast', 'Stock Till', 'Sub_Group',\n",
    "                                           'Line1', 'Line2', 'Line3', 'Line4', 'Year-1_Q', 'QM1', 'QM2', 'QM3', 'QM4', 'QM5', 'QM6', 'QM7', 'QM8', 'QM9', 'QM10',\n",
    "                                  'QM11', 'QM12', 'Year-2_Q', 'QM13', 'QM14', 'QM15', 'QM16', 'QM17', 'QM18', 'QM19', 'QM20', 'QM21', 'QM22', 'QM23', 'QM24', 'Year-3_Q', 'QM25', 'QM26', 'QM27',\n",
    "                                  'QM28', 'QM29', 'QM30', 'QM31', 'QM32', 'QM33', 'QM34', 'QM35', 'QM36', 'YTD_AVG_SALES_V', 'Avg_12M_Sales_V', 'L12_Max_V', 'L12_Min_V', 'Avg_6M_Sales_V', \n",
    "                                  'Avg_3M_Sales_V', 'LM_SALES_V', 'LYSM1_V', 'LYSM2_V', 'LYSM3_V', 'LYSM4_V', 'LYSM5_V', 'LYSM6_V', 'Year-1_V', 'VM1', 'VM2', 'VM3', 'VM4', 'VM5', 'VM6', 'VM7',\n",
    "                                  'VM8', 'VM9', 'VM10', 'VM11', 'VM12', 'Year-2_V', 'VM13', 'VM14', 'VM15', 'VM16', 'VM17', 'VM18', 'VM19', 'VM20', 'VM21', 'VM22', 'VM23', 'VM24', 'Year-3_V', \n",
    "                                  'VM25', 'VM26', 'VM27', 'VM28', 'VM29', 'VM30', 'VM31', 'VM32', 'VM33', 'VM34', 'VM35', 'VM36', 'Category 1', 'East_Cont', 'North_Cont', 'South_Cont', 'West_Cont',\n",
    "                                  'IsActive','ZSM_class', 'NSM_class', 'National_level_class', 'ZSM UserLoginID', 'Sequence']).rename(\n",
    "                                      columns={'Forecast Number':'Forecast No','FC Month':'FC_Month','FC Year':'FC_Year','Region':'Region','Channel':'Channel','Material_Code':'Material Code',\n",
    "                                               'Material Description':'Material Description','Category':'Category','ASM_Class':'Class','ASP':'ASP','RSM':'RSM','RSM ID':'RSM_ID','Material Status':'Material Status',\n",
    "                                               'YTD_AVG_SALES_Q':'YTD_Avg_Sales','Avg_12M_Sales_Q':'12M_Avg_Sales','Avg_6M_Sales_Q':'6M_Avg_Sales','Avg_3M_Sales_Q':'3M_Avg_Sales','LM_SALES_Q':'LM_Sales','LYSM1_Q':'LYSM1_Sales',\n",
    "                                               'LYSM2_Q':'LYSM2_Sales','LYSM3_Q':'LYSM3_Sales','M1_QTY_3SC':'M1_QTY_3SC','M2_QTY_3SC':'M2_QTY_3SC','M3_QTY_3SC':'M3_QTY_3SC','M4_QTY_3SC':'M4_QTY_3SC','M5_QTY_3SC':'M5_QTY_3SC',\n",
    "                                               'M6_QTY_3SC':'M6_QTY_3SC','M7_QTY_3SC':'M7_QTY_3SC','M8_QTY_3SC':'M8_QTY_3SC','M9_QTY_3SC':'M9_QTY_3SC','M10_QTY_3SC':'M10_QTY_3SC','M11_QTY_3SC':'M11_QTY_3SC',\n",
    "                                               'M12_QTY_3SC':'M12_QTY_3SC','M1_Qty':'M1_Qty','M2_Qty':'M2_Qty','M3_Qty':'M3_Qty','M4_Qty':'M4_Qty','M5_Qty':'M5_Qty','M6_Qty':'M6_Qty','M7_Qty':'M7_Qty','M8_Qty':'M8_Qty',\n",
    "                                               'M9_Qty':'M9_Qty','M10_Qty':'M10_Qty','M11_Qty':'M11_Qty','M12_Qty':'M12_Qty','L12_Min_Q':'L12Min','L12_Max_Q':'L12Max','M-1':'M-1','M-2':'M-2','M-3':'M-3','LYSM4_Q':'LYSM4_Sales',\n",
    "                                               'LYSM5_Q':'LYSM5_Sales','LYSM6_Q':'LYSM6_Sales','Status':'Status','Domestic/Import':'Domestic/Import','ABC (Qty)':'ABC (Qty)','AVG_6M_Forecast':'6M_Avg_Forecast',\n",
    "                                               'Stock Till':'Stock Till','Sub_Group':'Subgroup','Line1':'Line1','Line2':'Line2','Line3':'Line3','Line4':'Line4','Year-1_Q':'Y2020','QM1':'Y202001','QM2':'Y202002','QM3':'Y202003',\n",
    "                                               'QM4':'Y202004','QM5':'Y202005','QM6':'Y202006','QM7':'Y202007','QM8':'Y202008','QM9':'Y202009','QM10':'Y202010','QM11':'Y202011','QM12':'Y202012','Year-2_Q':'Y2021',\n",
    "                                               'QM13':'Y202101','QM14':'Y202102','QM15':'Y202103','QM16':'Y202104','QM17':'Y202105','QM18':'Y202106','QM19':'Y202107','QM20':'Y202108','QM21':'Y202109','QM22':'Y202110',\n",
    "                                               'QM23':'Y202111','QM24':'Y202112','Year-3_Q':'Y2022','QM25':'Y202201','QM26':'Y202202','QM27':'Y202203','QM28':'Y202204','QM29':'Y202205','QM30':'Y202206','QM31':'Y202207',\n",
    "                                               'QM32':'Y202208','QM33':'Y202209','QM34':'Y202210','QM35':'Y202211','QM36':'Y202212','YTD_AVG_SALES_V':'YTD_Avg_Sales_V','Avg_12M_Sales_V':'12M_Avg_Sales_V','L12_Max_V':'L12Max_V',\n",
    "                                               'L12_Min_V':'L12Min_V','Avg_6M_Sales_V':'6M_Avg_Sales_V','Avg_3M_Sales_V':'3M_Avg_Sales_V','LM_SALES_V':'LM_Sales_V','LYSM1_V':'LYSM1_Sales_V','LYSM2_V':'LYSM2_Sales_V',\n",
    "                                               'LYSM3_V':'LYSM3_Sales_V','LYSM4_V':'LYSM4_Sales_V','LYSM5_V':'LYSM5_Sales_V','LYSM6_V':'LYSM6_Sales_V','Year-1_V':'VY2021','VM1':'VY202101','VM2':'VY202102','VM3':'VY202103',\n",
    "                                               'VM4':'VY202104','VM5':'VY202105','VM6':'VY202106','VM7':'VY202107','VM8':'VY202108','VM9':'VY202109','VM10':'VY202110','VM11':'VY202111','VM12':'VY202112','Year-2_V':'VY2022',\n",
    "                                               'VM13':'VY202201','VM14':'VY202202','VM15':'VY202203','VM16':'VY202204','VM17':'VY202205','VM18':'VY202206','VM19':'VY202207','VM20':'VY202208','VM21':'VY202209','VM22':'VY202210',\n",
    "                                               'VM23':'VY202211','VM24':'VY202212','Year-3_V':'VY2023','VM25':'VY202301','VM26':'VY202302','VM27':'VY202303','VM28':'VY202304','VM29':'VY202305','VM30':'VY202306','VM31':'VY202307',\n",
    "                                               'VM32':'VY202308','VM33':'VY202309','VM34':'VY202310','VM35':'VY202311','VM36':'VY202312','Category 1':'Category1','East_Cont':'East_Cont','North_Cont':'North_Cont',\n",
    "                                               'South_Cont':'South_Cont','West_Cont':'West_Cont','IsActive':'IsActive','ZSM_class':'ZSM Class','NSM_class':'NSM Class','National_level_class':'National Level Class'})\n"
   ]
  },
  {
   "cell_type": "code",
   "execution_count": 28,
   "metadata": {},
   "outputs": [],
   "source": [
    "Data_D = Data_detail[['Forecast No','FC_Month','FC_Year','Region','Channel','Material Code','Material Description','Category','Class','ASP','RSM','RSM_ID','Material Status','YTD_Avg_Sales','12M_Avg_Sales',\n",
    "       '6M_Avg_Sales','3M_Avg_Sales','LM_Sales','LYSM1_Sales','LYSM2_Sales','LYSM3_Sales','M1_QTY_3SC','M2_QTY_3SC','M3_QTY_3SC','M4_QTY_3SC','M5_QTY_3SC','M6_QTY_3SC','M7_QTY_3SC','M8_QTY_3SC',\n",
    "       'M9_QTY_3SC','M10_QTY_3SC','M11_QTY_3SC','M12_QTY_3SC','M1_Qty','M2_Qty','M3_Qty','M4_Qty','M5_Qty','M6_Qty','M7_Qty','M8_Qty','M9_Qty','M10_Qty','M11_Qty','M12_Qty','L12Min','L12Max',\n",
    "       'M-1','M-2','M-3','LYSM4_Sales','LYSM5_Sales','LYSM6_Sales','Status','Domestic/Import','ABC (Qty)','6M_Avg_Forecast','Stock Till','Subgroup','Line1','Line2','Line3','Line4','Y2020',\n",
    "       'Y202001','Y202002','Y202003','Y202004','Y202005','Y202006','Y202007','Y202008','Y202009','Y202010','Y202011','Y202012','Y2021','Y202101','Y202102','Y202103','Y202104','Y202105','Y202106',\n",
    "       'Y202107','Y202108','Y202109','Y202110','Y202111','Y202112','Y2022','Y202201','Y202202','Y202203','Y202204','Y202205','Y202206','Y202207','Y202208','Y202209','Y202210','Y202211','Y202212',\n",
    "       'YTD_Avg_Sales_V','12M_Avg_Sales_V','L12Max_V','L12Min_V','6M_Avg_Sales_V','3M_Avg_Sales_V','LM_Sales_V','LYSM1_Sales_V','LYSM2_Sales_V','LYSM3_Sales_V','LYSM4_Sales_V','LYSM5_Sales_V',\n",
    "       'LYSM6_Sales_V','VY2021','VY202101','VY202102','VY202103','VY202104','VY202105','VY202106','VY202107','VY202108','VY202109','VY202110','VY202111','VY202112','VY2022','VY202201','VY202202',\n",
    "       'VY202203','VY202204','VY202205','VY202206','VY202207','VY202208','VY202209','VY202210','VY202211','VY202212','VY2023','VY202301','VY202302','VY202303','VY202304','VY202305','VY202306',\n",
    "       'VY202307','VY202308','VY202309','VY202310','VY202311','VY202312','Category1','East_Cont','North_Cont','South_Cont','West_Cont','IsActive','ZSM Class','NSM Class','National Level Class']]"
   ]
  },
  {
   "cell_type": "code",
   "execution_count": 29,
   "metadata": {},
   "outputs": [],
   "source": [
    "# Group the DataFrame by the values in the 'column_name' column\n",
    "groups = Data_D.groupby('Channel')\n"
   ]
  },
  {
   "cell_type": "code",
   "execution_count": 30,
   "metadata": {},
   "outputs": [
    {
     "name": "stderr",
     "output_type": "stream",
     "text": [
      "C:\\Users\\Viraj.Pawar\\AppData\\Local\\Temp\\ipykernel_7612\\4133689978.py:11: FutureWarning: save is not part of the public API, usage can give unexpected results and will be removed in a future version\n",
      "  writer.save()\n"
     ]
    }
   ],
   "source": [
    "# Iterate over the groups and save each one to a separate Excel file\n",
    "for name, group in groups:\n",
    "    # Create a new Excel file for the group\n",
    "    filename = f\"{name}_DD.xlsx\"\n",
    "    writer = pd.ExcelWriter(filename, engine='xlsxwriter')\n",
    "    \n",
    "    # Write the group to a new sheet in the Excel file\n",
    "    group.to_excel(writer, sheet_name='Sheet1', index=False)\n",
    "    \n",
    "    # Save the Excel file\n",
    "    writer.save()"
   ]
  },
  {
   "cell_type": "code",
   "execution_count": null,
   "metadata": {},
   "outputs": [],
   "source": []
  }
 ],
 "metadata": {
  "kernelspec": {
   "display_name": "Python 3",
   "language": "python",
   "name": "python3"
  },
  "language_info": {
   "codemirror_mode": {
    "name": "ipython",
    "version": 3
   },
   "file_extension": ".py",
   "mimetype": "text/x-python",
   "name": "python",
   "nbconvert_exporter": "python",
   "pygments_lexer": "ipython3",
   "version": "3.11.1"
  },
  "orig_nbformat": 4,
  "vscode": {
   "interpreter": {
    "hash": "fd619a6344c35b9be7147eac7a4b83477a2ab0fbbf52f1523ee6074965edc3bc"
   }
  }
 },
 "nbformat": 4,
 "nbformat_minor": 2
}
